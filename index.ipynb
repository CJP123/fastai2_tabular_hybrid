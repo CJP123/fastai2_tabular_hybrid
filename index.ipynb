{
 "cells": [
  {
   "cell_type": "markdown",
   "metadata": {},
   "source": [
    "# fastai2_tabular_hybrid\n",
    "\n",
    "> Hybrid approaches to supporting more datatypes with fastai2 tabular"
   ]
  }
 ],
 "metadata": {
  "kernelspec": {
   "display_name": "Python 3",
   "language": "python",
   "name": "python3"
  }
 },
 "nbformat": 4,
 "nbformat_minor": 2
}
