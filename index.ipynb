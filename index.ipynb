{
 "cells": [
  {
   "cell_type": "markdown",
   "metadata": {},
   "source": [
    "# fastai2_tabular_hybrid\n",
    "\n",
    "> Hybrid approaches to supporting more datatypes with fastai2 tabular"
   ]
  },
  {
   "cell_type": "markdown",
   "metadata": {},
   "source": [
    "# Contributers:\n",
    "\n",
    "* Zachary Mueller"
   ]
  },
  {
   "cell_type": "markdown",
   "metadata": {},
   "source": [
    "# Directions for Contributing:\n",
    "\n",
    "1. Fork this repository into your GitHub Account\n",
    "2. Ensure that `nbdev` is installed on your system\n",
    "3. Make any changes and ensure that you run the following **before** commiting:\n",
    "  * `nbdev_build_lib`\n",
    "  * `nbdev_clean_nbs`\n",
    "4. Open a Pull Request with the library, and choose \"From fork\" to open one with the main repository."
   ]
  },
  {
   "cell_type": "code",
   "execution_count": null,
   "metadata": {},
   "outputs": [],
   "source": []
  }
 ],
 "metadata": {
  "kernelspec": {
   "display_name": "Python 3",
   "language": "python",
   "name": "python3"
  }
 },
 "nbformat": 4,
 "nbformat_minor": 2
}
